{
 "cells": [
  {
   "cell_type": "markdown",
   "id": "36b4d05e",
   "metadata": {},
   "source": [
    "# Diferenciación automática\n",
    "\n",
    "Definimos una estructura algebráica que cumple:\n",
    "\n",
    "$$z = x + \\varepsilon y,\\qquad \\varepsilon^2=0$$\n",
    "\n",
    "Bajo la suma y el producto, estos números duales se comportan como la derivada.\n",
    "\n",
    "Vamos a crear un módulo en Julia con la estructura de números duales."
   ]
  },
  {
   "cell_type": "code",
   "execution_count": 1,
   "id": "e01156ed",
   "metadata": {},
   "outputs": [],
   "source": [
    "mutable struct Dual\n",
    "    funcion::Float64\n",
    "    derivada::Float64\n",
    "end"
   ]
  },
  {
   "cell_type": "code",
   "execution_count": 13,
   "id": "c8920b33",
   "metadata": {},
   "outputs": [
    {
     "name": "stderr",
     "output_type": "stream",
     "text": [
      "WARNING: import of Base.+ into Main conflicts with an existing identifier; ignored.\n"
     ]
    }
   ],
   "source": [
    "# Definición de la suma:\n",
    "import Base.:+\n",
    "Base.:+(x::Dual,y::Dual) = Dual(x.funcion+y.funcion,x.derivada+y.derivada)"
   ]
  },
  {
   "cell_type": "code",
   "execution_count": 15,
   "id": "13ba88f2",
   "metadata": {},
   "outputs": [
    {
     "ename": "LoadError",
     "evalue": "MethodError: no method matching +(::Float64, ::Float64)\nYou may have intended to import Base.:+",
     "output_type": "error",
     "traceback": [
      "MethodError: no method matching +(::Float64, ::Float64)\nYou may have intended to import Base.:+",
      "",
      "Stacktrace:",
      " [1] +(x::Dual, y::Dual)",
      "   @ Main ./In[7]:3",
      " [2] top-level scope",
      "   @ In[15]:1"
     ]
    }
   ],
   "source": [
    "Dual(5.0,2.0) + Dual(1.0,1.0)"
   ]
  },
  {
   "cell_type": "code",
   "execution_count": null,
   "id": "0aa79ad0",
   "metadata": {},
   "outputs": [],
   "source": []
  }
 ],
 "metadata": {
  "kernelspec": {
   "display_name": "Julia 1.9.2",
   "language": "julia",
   "name": "julia-1.9"
  },
  "language_info": {
   "file_extension": ".jl",
   "mimetype": "application/julia",
   "name": "julia",
   "version": "1.9.2"
  }
 },
 "nbformat": 4,
 "nbformat_minor": 5
}
