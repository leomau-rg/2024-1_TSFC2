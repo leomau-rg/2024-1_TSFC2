{
 "cells": [
  {
   "cell_type": "markdown",
   "id": "4dc32e02",
   "metadata": {},
   "source": [
    "# Diferenciación automática\n",
    "\n",
    "Definimos una estructura algebráica que cumple:\n",
    "\n",
    "$$z = x + \\varepsilon y,\\qquad \\varepsilon^2=0$$\n",
    "\n",
    "Bajo la suma y el producto, estos números duales se comportan como la derivada.\n",
    "\n",
    "Vamos a crear un módulo en Julia con la estructura de números duales."
   ]
  },
  {
   "cell_type": "code",
   "execution_count": null,
   "id": "fc1e5a0e",
   "metadata": {},
   "outputs": [],
   "source": []
  }
 ],
 "metadata": {
  "kernelspec": {
   "display_name": "Julia 1.9.2",
   "language": "julia",
   "name": "julia-1.9"
  },
  "language_info": {
   "file_extension": ".jl",
   "mimetype": "application/julia",
   "name": "julia",
   "version": "1.9.2"
  }
 },
 "nbformat": 4,
 "nbformat_minor": 5
}
